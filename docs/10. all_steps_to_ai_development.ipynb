{
 "cells": [
  {
   "cell_type": "markdown",
   "metadata": {},
   "source": [
    "# 데이터"
   ]
  },
  {
   "cell_type": "markdown",
   "metadata": {},
   "source": [
    "## 수집"
   ]
  },
  {
   "cell_type": "markdown",
   "metadata": {},
   "source": [
    "## 전처리"
   ]
  },
  {
   "cell_type": "markdown",
   "metadata": {},
   "source": [
    "### 데이터 벡터화(Vectorization)\n",
    "* 신경망에서 모든 입력과 타겟은 모두 부동 소수(특정 경우 정수) 데이터로 이뤄진 텐서임.\n",
    "* 사운드, 이미지 및 텍스트 등 처리할 `모든 데이터를 먼저 숫자로 변환`해야 하는데 이를 `데이터 벡터화`라고 함."
   ]
  },
  {
   "cell_type": "markdown",
   "metadata": {},
   "source": [
    "### 데이터 정규화(Normalization)\n",
    "* 큰 자리수 정수(예 234567)나 균일하지 않는 데이터(예 col1=0~1, col2=0~100, col3=100~200)를 바로 신경망의 입력으로 사용하면 좋은 결과를 얻을 수 없음.\n",
    "* 신경망을 더 정확히 학습시키려면 데이터가 다음 특성을 띄어야 함\n",
    "  * 작은 값(0~1, -1~1)을 취하게 한다.\n",
    "  * 모든 특성이 대체로 비슷한 범위를 가져야 함.\n",
    "* `평균 0, 표준편차가 1이 되는 정규화` 방법\n",
    "    ```python\n",
    "    train_x -= train_x.mean(axis=0)\n",
    "    train_x /= train_x.std(axis=0)\n",
    "    ```"
   ]
  },
  {
   "cell_type": "markdown",
   "metadata": {},
   "source": [
    "### 누락된 값 처리"
   ]
  },
  {
   "cell_type": "markdown",
   "metadata": {},
   "source": [
    "## 특성공학처리\n",
    "* 좀 어려운 부분이고, 최근 딥러닝 알고리즘은 특성 공학이 필요하지 않음(자동으로 유용한 특성 추출함)\n",
    "* 그럼에도 특성공학이 필요한 이유\n",
    "  * 좋은 특성은 더 `적은 H/W 자원`으로, `적은 샘플 데이터`로 좋은 성능을 낼 수 있음"
   ]
  },
  {
   "cell_type": "markdown",
   "metadata": {},
   "source": [
    "# 모델"
   ]
  },
  {
   "cell_type": "markdown",
   "metadata": {},
   "source": [
    "## 모델 훈련"
   ]
  },
  {
   "cell_type": "markdown",
   "metadata": {},
   "source": [
    "### 적은 데이터를 이용한 모델 훈련"
   ]
  },
  {
   "cell_type": "markdown",
   "metadata": {},
   "source": [
    "#### 단순 홀드아웃 검증(Hold-out Validation)"
   ]
  },
  {
   "cell_type": "markdown",
   "metadata": {},
   "source": [
    "#### K-Fold 교차검증(Cross-Validation)"
   ]
  },
  {
   "cell_type": "markdown",
   "metadata": {},
   "source": [
    "#### Shuffling 반복 K-Fold 교차검증"
   ]
  },
  {
   "cell_type": "markdown",
   "metadata": {},
   "source": []
  }
 ],
 "metadata": {
  "language_info": {
   "name": "python"
  },
  "orig_nbformat": 4
 },
 "nbformat": 4,
 "nbformat_minor": 2
}

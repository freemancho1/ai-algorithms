{
 "cells": [
  {
   "cell_type": "markdown",
   "metadata": {},
   "source": [
    "# Basic NLP\n",
    "Natural Language Processing"
   ]
  },
  {
   "cell_type": "markdown",
   "metadata": {},
   "source": [
    "## Todo\n",
    "Read sentences and evaluate negative/positive\n",
    "\n",
    "```python\n",
    "original_x = [\n",
    "    '너 오늘 이뻐 보인다.',\n",
    "    '나는 오늘 기분이 더러워',\n",
    "    '끝내주는데, 좋은 일 있나봐?',\n",
    "    '나 좋은 일 생겼어',\n",
    "    '아 오늘 진짜 짜증나!',\n",
    "    '환상적인데, 정말 좋은거 같아'    \n",
    "]\n",
    "original_y = [[1], [0], [1], [1], [0], [1]]\n",
    "\n",
    "question_x = [\n",
    "    '나 오늘 기분 좋아',\n",
    "    '아 진짜 환상적이야'\n",
    "]\n",
    "question_y = [[?], [?]]\n",
    "```"
   ]
  },
  {
   "cell_type": "markdown",
   "metadata": {},
   "source": [
    "## Preparation"
   ]
  },
  {
   "cell_type": "markdown",
   "metadata": {},
   "source": [
    "### Load the Library"
   ]
  },
  {
   "cell_type": "code",
   "execution_count": 1,
   "metadata": {},
   "outputs": [
    {
     "data": {
      "text/plain": [
       "'2.7.4'"
      ]
     },
     "execution_count": 1,
     "metadata": {},
     "output_type": "execute_result"
    }
   ],
   "source": [
    "import tensorflow as tf\n",
    "import numpy as np\n",
    "from datetime import datetime\n",
    "\n",
    "tf.__version__"
   ]
  },
  {
   "cell_type": "markdown",
   "metadata": {},
   "source": [
    "### Prepare Training Data"
   ]
  },
  {
   "cell_type": "code",
   "execution_count": 53,
   "metadata": {},
   "outputs": [],
   "source": [
    "original_x = [\n",
    "    '너 오늘 이뻐 보인다.',\n",
    "    '나는 오늘 기분이 더러워',\n",
    "    '끝내주는데, 좋은 일 있나봐?',\n",
    "    '나 좋은 일 생겼어',\n",
    "    '아 오늘 진짜 짜증나!',\n",
    "    '환상적인데, 정말 좋은거 같아'    \n",
    "]\n",
    "original_y = [[1], [0], [1], [1], [0], [1]]\n",
    "\n",
    "question_x = [\n",
    "    '나 오늘 아주 좋은',\n",
    "    '아 너는 진짜 더러워'\n",
    "]"
   ]
  },
  {
   "cell_type": "markdown",
   "metadata": {},
   "source": [
    "#### Preprocessing"
   ]
  },
  {
   "cell_type": "markdown",
   "metadata": {},
   "source": [
    "##### Tokenizer\n",
    "Create a dictionary using words from the training data"
   ]
  },
  {
   "cell_type": "code",
   "execution_count": 3,
   "metadata": {},
   "outputs": [],
   "source": [
    "tokenizer = tf.keras.preprocessing.text.Tokenizer()\n",
    "tokenizer.fit_on_texts(original_x)"
   ]
  },
  {
   "cell_type": "code",
   "execution_count": 4,
   "metadata": {},
   "outputs": [
    {
     "data": {
      "text/plain": [
       "20"
      ]
     },
     "execution_count": 4,
     "metadata": {},
     "output_type": "execute_result"
    }
   ],
   "source": [
    "len(tokenizer.word_index)"
   ]
  },
  {
   "cell_type": "code",
   "execution_count": 5,
   "metadata": {},
   "outputs": [
    {
     "data": {
      "text/plain": [
       "{'오늘': 1,\n",
       " '좋은': 2,\n",
       " '일': 3,\n",
       " '너': 4,\n",
       " '이뻐': 5,\n",
       " '보인다': 6,\n",
       " '나는': 7,\n",
       " '기분이': 8,\n",
       " '더러워': 9,\n",
       " '끝내주는데': 10,\n",
       " '있나봐': 11,\n",
       " '나': 12,\n",
       " '생겼어': 13,\n",
       " '아': 14,\n",
       " '진짜': 15,\n",
       " '짜증나': 16,\n",
       " '환상적인데': 17,\n",
       " '정말': 18,\n",
       " '좋은거': 19,\n",
       " '같아': 20}"
      ]
     },
     "execution_count": 5,
     "metadata": {},
     "output_type": "execute_result"
    }
   ],
   "source": [
    "tokenizer.word_index"
   ]
  },
  {
   "cell_type": "code",
   "execution_count": 6,
   "metadata": {},
   "outputs": [
    {
     "data": {
      "text/plain": [
       "OrderedDict([('너', 1),\n",
       "             ('오늘', 3),\n",
       "             ('이뻐', 1),\n",
       "             ('보인다', 1),\n",
       "             ('나는', 1),\n",
       "             ('기분이', 1),\n",
       "             ('더러워', 1),\n",
       "             ('끝내주는데', 1),\n",
       "             ('좋은', 2),\n",
       "             ('일', 2),\n",
       "             ('있나봐', 1),\n",
       "             ('나', 1),\n",
       "             ('생겼어', 1),\n",
       "             ('아', 1),\n",
       "             ('진짜', 1),\n",
       "             ('짜증나', 1),\n",
       "             ('환상적인데', 1),\n",
       "             ('정말', 1),\n",
       "             ('좋은거', 1),\n",
       "             ('같아', 1)])"
      ]
     },
     "execution_count": 6,
     "metadata": {},
     "output_type": "execute_result"
    }
   ],
   "source": [
    "tokenizer.word_counts"
   ]
  },
  {
   "cell_type": "markdown",
   "metadata": {},
   "source": [
    "##### Text to Numeric\n",
    "Convert text data to numeric using a dictionary"
   ]
  },
  {
   "cell_type": "code",
   "execution_count": 7,
   "metadata": {},
   "outputs": [
    {
     "data": {
      "text/plain": [
       "[[4, 1, 5, 6],\n",
       " [7, 1, 8, 9],\n",
       " [10, 2, 3, 11],\n",
       " [12, 2, 3, 13],\n",
       " [14, 1, 15, 16],\n",
       " [17, 18, 19, 20]]"
      ]
     },
     "execution_count": 7,
     "metadata": {},
     "output_type": "execute_result"
    }
   ],
   "source": [
    "original_num = tokenizer.texts_to_sequences(original_x)\n",
    "original_num"
   ]
  },
  {
   "cell_type": "code",
   "execution_count": 8,
   "metadata": {},
   "outputs": [],
   "source": [
    "train_x = np.array(original_num)\n",
    "train_y = np.array(original_y)"
   ]
  },
  {
   "cell_type": "markdown",
   "metadata": {},
   "source": [
    "##### Save Dictionary"
   ]
  },
  {
   "cell_type": "code",
   "execution_count": 9,
   "metadata": {},
   "outputs": [],
   "source": [
    "vocab_data = tokenizer.word_index\n",
    "vocab_data['<PAD>'] = 0   # Any data that is not in the dictionary is treated as 0"
   ]
  },
  {
   "cell_type": "markdown",
   "metadata": {},
   "source": [
    "### Define a Global Variables"
   ]
  },
  {
   "cell_type": "code",
   "execution_count": 10,
   "metadata": {},
   "outputs": [],
   "source": [
    "EPOCHS = 10\n",
    "BATCH_SIZE = 2\n",
    "\n",
    "VOCAB_SIZE = len(vocab_data) + 1"
   ]
  },
  {
   "cell_type": "markdown",
   "metadata": {},
   "source": [
    "## Define Model"
   ]
  },
  {
   "cell_type": "code",
   "execution_count": 23,
   "metadata": {},
   "outputs": [],
   "source": [
    "class SimpleNLP(tf.keras.Model):\n",
    "    \n",
    "    def __init__(self):\n",
    "        super(SimpleNLP, self).__init__(name=\"simple_nlp\")\n",
    "        self.i  = tf.keras.layers.Embedding(VOCAB_SIZE, 128)\n",
    "        self.f1 = tf.keras.layers.Dense(units=256, activation=\"relu\")\n",
    "        self.o  = tf.keras.layers.Dense(units=1, activation=\"sigmoid\")\n",
    "        \n",
    "    def call(self, inputs):\n",
    "        l = self.i(inputs)\n",
    "        l = tf.reduce_mean(l, axis=1)\n",
    "        l = self.f1(l)\n",
    "        l = self.o(l)\n",
    "        return l\n",
    "    \n",
    "model = SimpleNLP()\n",
    "model.compile(optimizer=\"adam\", loss=\"binary_crossentropy\", metrics=[\"accuracy\"])"
   ]
  },
  {
   "cell_type": "markdown",
   "metadata": {},
   "source": [
    "## Training Model"
   ]
  },
  {
   "cell_type": "code",
   "execution_count": 24,
   "metadata": {},
   "outputs": [
    {
     "name": "stdout",
     "output_type": "stream",
     "text": [
      "Epoch 1/10\n",
      "3/3 [==============================] - 0s 3ms/step - loss: 0.6950 - accuracy: 0.5000\n",
      "Epoch 2/10\n",
      "3/3 [==============================] - 0s 3ms/step - loss: 0.6765 - accuracy: 1.0000\n",
      "Epoch 3/10\n",
      "3/3 [==============================] - 0s 2ms/step - loss: 0.6590 - accuracy: 1.0000\n",
      "Epoch 4/10\n",
      "3/3 [==============================] - 0s 3ms/step - loss: 0.6437 - accuracy: 1.0000\n",
      "Epoch 5/10\n",
      "3/3 [==============================] - 0s 3ms/step - loss: 0.6243 - accuracy: 1.0000\n",
      "Epoch 6/10\n",
      "3/3 [==============================] - 0s 2ms/step - loss: 0.6035 - accuracy: 1.0000\n",
      "Epoch 7/10\n",
      "3/3 [==============================] - 0s 3ms/step - loss: 0.5781 - accuracy: 1.0000\n",
      "Epoch 8/10\n",
      "3/3 [==============================] - 0s 2ms/step - loss: 0.5499 - accuracy: 1.0000\n",
      "Epoch 9/10\n",
      "3/3 [==============================] - 0s 2ms/step - loss: 0.5192 - accuracy: 1.0000\n",
      "Epoch 10/10\n",
      "3/3 [==============================] - 0s 2ms/step - loss: 0.4812 - accuracy: 1.0000\n"
     ]
    },
    {
     "data": {
      "text/plain": [
       "<keras.callbacks.History at 0x7f8524375a60>"
      ]
     },
     "execution_count": 24,
     "metadata": {},
     "output_type": "execute_result"
    }
   ],
   "source": [
    "model.fit(train_x, train_y, epochs=EPOCHS, batch_size=BATCH_SIZE)"
   ]
  },
  {
   "cell_type": "markdown",
   "metadata": {},
   "source": [
    "## Evaluate Model"
   ]
  },
  {
   "cell_type": "code",
   "execution_count": 58,
   "metadata": {},
   "outputs": [
    {
     "data": {
      "text/plain": [
       "['나 오늘 아주 좋은', '아 너는 진짜 더러워']"
      ]
     },
     "execution_count": 58,
     "metadata": {},
     "output_type": "execute_result"
    }
   ],
   "source": [
    "question_x"
   ]
  },
  {
   "cell_type": "code",
   "execution_count": 59,
   "metadata": {},
   "outputs": [
    {
     "data": {
      "text/plain": [
       "[[12, 1, 2], [14, 15, 9]]"
      ]
     },
     "execution_count": 59,
     "metadata": {},
     "output_type": "execute_result"
    }
   ],
   "source": [
    "# Numericalization of test data should also use a training tokenizer\n",
    "question_num = tokenizer.texts_to_sequences(question_x)\n",
    "question_num"
   ]
  },
  {
   "cell_type": "code",
   "execution_count": 60,
   "metadata": {},
   "outputs": [
    {
     "data": {
      "text/plain": [
       "array([[0.58491594],\n",
       "       [0.38955677]], dtype=float32)"
      ]
     },
     "execution_count": 60,
     "metadata": {},
     "output_type": "execute_result"
    },
    {
     "ename": "",
     "evalue": "",
     "output_type": "error",
     "traceback": [
      "\u001b[1;31m현재 셀 또는 이전 셀에서 코드를 실행하는 동안 Kernel이 충돌했습니다. 셀의 코드를 검토하여 오류의 가능한 원인을 식별하세요. 자세한 내용을 보려면 <a href='https://aka.ms/vscodeJupyterKernelCrash'> 여기 </a> 를 클릭하세요. 자세한 내용은 Jupyter <a href='command:jupyter.viewOutput'>로그</a>를 참조하세요."
     ]
    }
   ],
   "source": [
    "test_x = np.array(question_num)\n",
    "pred_y = model.predict(test_x)\n",
    "pred_y"
   ]
  },
  {
   "cell_type": "code",
   "execution_count": null,
   "metadata": {},
   "outputs": [],
   "source": []
  }
 ],
 "metadata": {
  "kernelspec": {
   "display_name": "Python 3.9.13 ('tf27p39')",
   "language": "python",
   "name": "python3"
  },
  "language_info": {
   "codemirror_mode": {
    "name": "ipython",
    "version": 3
   },
   "file_extension": ".py",
   "mimetype": "text/x-python",
   "name": "python",
   "nbconvert_exporter": "python",
   "pygments_lexer": "ipython3",
   "version": "3.9.13"
  },
  "orig_nbformat": 4,
  "vscode": {
   "interpreter": {
    "hash": "adc6a6ffc7682364230b93b75ca0d1bdd8db84ff27ffd4d90b08b9e56198ae80"
   }
  }
 },
 "nbformat": 4,
 "nbformat_minor": 2
}

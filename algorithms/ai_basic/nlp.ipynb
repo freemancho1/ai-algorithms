{
 "cells": [
  {
   "cell_type": "markdown",
   "metadata": {},
   "source": [
    "# Basic NLP\n",
    "Natural Language Processing"
   ]
  },
  {
   "cell_type": "markdown",
   "metadata": {},
   "source": [
    "## Todo\n",
    "Read sentences and evaluate negative/positive\n",
    "\n",
    "```python\n",
    "original_x = [\n",
    "    '너 오늘 이뻐 보인다.',\n",
    "    '나는 오늘 기분이 더러워',\n",
    "    '끝내주는데, 좋은 일 있나봐?',\n",
    "    '나 좋은 일 생겼어',\n",
    "    '아 오늘 진짜 짜증나!',\n",
    "    '환상적인데, 정말 좋은거 같아'    \n",
    "]\n",
    "original_y = [[1], [0], [1], [1], [0], [1]]\n",
    "\n",
    "test_x = [\n",
    "    '나 오늘 기분 좋아',\n",
    "    '아 진짜 환상적이야'\n",
    "]\n",
    "test_y = [[?], [?]]\n",
    "```"
   ]
  },
  {
   "cell_type": "code",
   "execution_count": null,
   "metadata": {},
   "outputs": [],
   "source": []
  }
 ],
 "metadata": {
  "kernelspec": {
   "display_name": "Python 3.9.13 ('tf27p39')",
   "language": "python",
   "name": "python3"
  },
  "language_info": {
   "name": "python",
   "version": "3.9.13"
  },
  "orig_nbformat": 4,
  "vscode": {
   "interpreter": {
    "hash": "adc6a6ffc7682364230b93b75ca0d1bdd8db84ff27ffd4d90b08b9e56198ae80"
   }
  }
 },
 "nbformat": 4,
 "nbformat_minor": 2
}

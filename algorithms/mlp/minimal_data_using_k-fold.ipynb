{
 "cells": [
  {
   "cell_type": "markdown",
   "metadata": {},
   "source": [
    "# Regression Analysis of Small Data Using K-Fold\n",
    "A model for predicting house prices in Boston"
   ]
  },
  {
   "cell_type": "markdown",
   "metadata": {},
   "source": [
    "## Preparation"
   ]
  },
  {
   "cell_type": "markdown",
   "metadata": {},
   "source": [
    "### Load the Library"
   ]
  },
  {
   "cell_type": "code",
   "execution_count": 3,
   "metadata": {},
   "outputs": [
    {
     "data": {
      "text/plain": [
       "'2.7.4'"
      ]
     },
     "execution_count": 3,
     "metadata": {},
     "output_type": "execute_result"
    }
   ],
   "source": [
    "import tensorflow as tf\n",
    "import numpy as np\n",
    "import pandas as pd\n",
    "import matplotlib.pyplot as plt\n",
    "\n",
    "from datetime import datetime\n",
    "\n",
    "tf.__version__"
   ]
  },
  {
   "cell_type": "markdown",
   "metadata": {},
   "source": [
    "### Prepare Training Data"
   ]
  },
  {
   "cell_type": "code",
   "execution_count": 2,
   "metadata": {},
   "outputs": [
    {
     "name": "stdout",
     "output_type": "stream",
     "text": [
      "Downloading data from https://storage.googleapis.com/tensorflow/tf-keras-datasets/boston_housing.npz\n",
      "57344/57026 [==============================] - 0s 0us/step\n",
      "65536/57026 [==================================] - 0s 0us/step\n"
     ]
    },
    {
     "data": {
      "text/plain": [
       "(numpy.ndarray, (404, 13), (102, 13), numpy.ndarray, 15.2)"
      ]
     },
     "execution_count": 2,
     "metadata": {},
     "output_type": "execute_result"
    }
   ],
   "source": [
    "(train_x, train_y), (test_x, test_y) = tf.keras.datasets.boston_housing.load_data()\n",
    "type(train_x), train_x.shape, test_x.shape, type(train_y), train_y[0]"
   ]
  },
  {
   "cell_type": "markdown",
   "metadata": {},
   "source": [
    "#### Preprocessing\n",
    "Normalize each column value to a value between -1 and 1"
   ]
  },
  {
   "cell_type": "code",
   "execution_count": 15,
   "metadata": {},
   "outputs": [],
   "source": [
    "train_mean = train_x.mean(axis=0)\n",
    "train_x -= train_mean\n",
    "train_std = train_x.std(axis=0)\n",
    "train_x /= train_std\n",
    "\n",
    "test_x -= train_mean\n",
    "test_x /= train_std"
   ]
  },
  {
   "cell_type": "markdown",
   "metadata": {},
   "source": [
    "## Model"
   ]
  },
  {
   "cell_type": "markdown",
   "metadata": {},
   "source": [
    "### Define"
   ]
  },
  {
   "cell_type": "code",
   "execution_count": 19,
   "metadata": {},
   "outputs": [],
   "source": [
    "def build_nlp_model():\n",
    "    model = tf.keras.models.Sequential([\n",
    "        tf.keras.layers.Dense(64, activation=\"relu\", input_shape=train_x.shape[1:]),\n",
    "        tf.keras.layers.Dense(32, activation=\"relu\"),\n",
    "        tf.keras.layers.Dense(1)  # `activation` is not used in regression\n",
    "    ])\n",
    "    model.compile(optimizer=\"rmsprop\", loss=\"mse\", metrics=[\"mae\"])\n",
    "    return model"
   ]
  },
  {
   "cell_type": "markdown",
   "metadata": {},
   "source": [
    "### Training using K-Fold"
   ]
  },
  {
   "cell_type": "code",
   "execution_count": 23,
   "metadata": {},
   "outputs": [
    {
     "name": "stdout",
     "output_type": "stream",
     "text": [
      "Start Training: 2022-10-10 23:14:57.558192\n",
      "1 fold: (Start) 2022-10-10 23:14:57.558377, (End) 2022-10-10 23:15:37.617899, (Processing Time) 0:00:40.059522\n",
      "2 fold: (Start) 2022-10-10 23:15:37.617962, (End) 2022-10-10 23:16:18.020400, (Processing Time) 0:00:40.402438\n",
      "3 fold: (Start) 2022-10-10 23:16:18.020467, (End) 2022-10-10 23:16:58.028078, (Processing Time) 0:00:40.007611\n",
      "4 fold: (Start) 2022-10-10 23:16:58.028140, (End) 2022-10-10 23:17:38.001457, (Processing Time) 0:00:39.973317\n",
      "End Training: 2022-10-10 23:17:38.003134, Processing Time: 0:02:40.444942\n"
     ]
    }
   ],
   "source": [
    "K = 4\n",
    "VALID_SIZE = len(train_x) // K\n",
    "EPOCHS = 100\n",
    "BATCH_SIZE = 1\n",
    "\n",
    "all_mae_histories = []\n",
    "\n",
    "start_train = datetime.now()\n",
    "print(f\"Start Training: {start_train}\")\n",
    "for i in range(K):\n",
    "    start_fold = datetime.now()\n",
    "    print(f\"{i+1} fold: (Start) {start_fold}, \", end=\"\")\n",
    "    \n",
    "    _valid_x = train_x[i*VALID_SIZE:(i+1)*VALID_SIZE]\n",
    "    _valid_y = train_y[i*VALID_SIZE:(i+1)*VALID_SIZE]\n",
    "    _train_x = np.concatenate([train_x[:i*VALID_SIZE], train_x[(i+1)*VALID_SIZE:]], axis=0)\n",
    "    _train_y = np.concatenate([train_y[:i*VALID_SIZE], train_y[(i+1)*VALID_SIZE:]], axis=0)\n",
    "\n",
    "    model = build_nlp_model()\n",
    "    history = model.fit(_train_x, _train_y, epochs=EPOCHS, batch_size=BATCH_SIZE, \n",
    "                        validation_data=(_valid_x, _valid_y), verbose=0)\n",
    "    mae_history = history.history['val_mae']\n",
    "    all_mae_histories.append(mae_history)\n",
    "    end_fold = datetime.now()\n",
    "    print(f\"(End) {end_fold}, (Processing Time) {end_fold-start_fold}\")\n",
    "    \n",
    "mean_mae_histories = [np.mean([x[i] for x in all_mae_histories]) for i in range(EPOCHS)]\n",
    "end_train = datetime.now()\n",
    "print(f\"End Training: {end_train}, Processing Time: {end_train-start_train}\")"
   ]
  },
  {
   "cell_type": "markdown",
   "metadata": {},
   "source": [
    "#### Find Optimal(=Minimum) Epochs\n",
    "Overfitting occurs after minimum epochs"
   ]
  },
  {
   "cell_type": "code",
   "execution_count": 25,
   "metadata": {},
   "outputs": [
    {
     "data": {
      "image/png": "[encoded data removed]",
      "text/plain": [
       "<Figure size 640x480 with 1 Axes>"
      ]
     },
     "metadata": {},
     "output_type": "display_data"
    }
   ],
   "source": [
    "plt.plot(range(1, len(mean_mae_histories)+1), mean_mae_histories)\n",
    "plt.xlabel(\"Epochs\")\n",
    "plt.ylabel(\"Validation MAE\")\n",
    "plt.show()"
   ]
  },
  {
   "cell_type": "code",
   "execution_count": 26,
   "metadata": {},
   "outputs": [
    {
     "data": {
      "text/plain": [
       "47"
      ]
     },
     "execution_count": 26,
     "metadata": {},
     "output_type": "execute_result"
    }
   ],
   "source": [
    "minimum_epochs = np.argmin(mean_mae_histories)\n",
    "minimum_epochs"
   ]
  },
  {
   "cell_type": "markdown",
   "metadata": {},
   "source": [
    "#### Training Model(Minimum Epochs)"
   ]
  },
  {
   "cell_type": "code",
   "execution_count": 29,
   "metadata": {},
   "outputs": [
    {
     "data": {
      "text/plain": [
       "2.70597767829895"
      ]
     },
     "execution_count": 29,
     "metadata": {},
     "output_type": "execute_result"
    }
   ],
   "source": [
    "model_final = build_nlp_model()\n",
    "model_final.fit(train_x, train_y, epochs=minimum_epochs, batch_size=8, verbose=0)\n",
    "_, mae = model_final.evaluate(test_x, test_y, verbose=0)\n",
    "mae"
   ]
  },
  {
   "cell_type": "code",
   "execution_count": null,
   "metadata": {},
   "outputs": [],
   "source": []
  }
 ],
 "metadata": {
  "kernelspec": {
   "display_name": "Python 3.9.13 ('tf27p39')",
   "language": "python",
   "name": "python3"
  },
  "language_info": {
   "codemirror_mode": {
    "name": "ipython",
    "version": 3
   },
   "file_extension": ".py",
   "mimetype": "text/x-python",
   "name": "python",
   "nbconvert_exporter": "python",
   "pygments_lexer": "ipython3",
   "version": "3.9.13"
  },
  "orig_nbformat": 4,
  "vscode": {
   "interpreter": {
    "hash": "adc6a6ffc7682364230b93b75ca0d1bdd8db84ff27ffd4d90b08b9e56198ae80"
   }
  }
 },
 "nbformat": 4,
 "nbformat_minor": 2
}

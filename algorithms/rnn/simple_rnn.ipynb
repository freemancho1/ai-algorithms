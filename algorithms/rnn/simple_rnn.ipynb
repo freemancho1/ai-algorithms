{
 "cells": [
  {
   "cell_type": "markdown",
   "metadata": {},
   "source": [
    "# Simple RNN\n",
    "\n",
    "Recurrent Neural Network"
   ]
  },
  {
   "cell_type": "markdown",
   "metadata": {},
   "source": [
    "## Preparation"
   ]
  },
  {
   "cell_type": "markdown",
   "metadata": {},
   "source": [
    "### Load the Library"
   ]
  },
  {
   "cell_type": "code",
   "execution_count": 1,
   "metadata": {},
   "outputs": [
    {
     "data": {
      "text/plain": [
       "'2.7.4'"
      ]
     },
     "execution_count": 1,
     "metadata": {},
     "output_type": "execute_result"
    }
   ],
   "source": [
    "import tensorflow as tf\n",
    "import numpy as np\n",
    "from datetime import datetime\n",
    "\n",
    "tf.__version__"
   ]
  },
  {
   "cell_type": "markdown",
   "metadata": {},
   "source": [
    "### Prepare Training Data"
   ]
  },
  {
   "cell_type": "code",
   "execution_count": 6,
   "metadata": {},
   "outputs": [
    {
     "data": {
      "text/plain": [
       "(2494, 11, 238.71364, 178.0)"
      ]
     },
     "execution_count": 6,
     "metadata": {},
     "output_type": "execute_result"
    }
   ],
   "source": [
    "# Movie Reviews Dataset\n",
    "train_ds, test_ds = tf.keras.datasets.imdb.load_data(num_words=10000)   # Top 10k frequency\n",
    "\n",
    "# Statistics Info.\n",
    "_train_x_lens = [len(x) for x in train_ds[0]]\n",
    "np.max(_train_x_lens), np.min(_train_x_lens), np.mean(_train_x_lens), np.median(_train_x_lens)"
   ]
  },
  {
   "cell_type": "code",
   "execution_count": 7,
   "metadata": {},
   "outputs": [],
   "source": [
    "# Padding: In Rnn, the data on the back is more important, so the front is padding with \"0\"\n",
    "train_x = tf.keras.preprocessing.sequence.pad_sequences(train_ds[0], 800)  # padding=\"pre\" - default\n",
    "test_x = tf.keras.preprocessing.sequence.pad_sequences(test_ds[0], 800)\n",
    "train_y, test_y = train_ds[1], test_ds[1]"
   ]
  },
  {
   "cell_type": "markdown",
   "metadata": {},
   "source": [
    "## Define RNN Model"
   ]
  },
  {
   "cell_type": "code",
   "execution_count": 9,
   "metadata": {},
   "outputs": [],
   "source": [
    "model = tf.keras.models.Sequential([\n",
    "    tf.keras.layers.Embedding(input_dim=10000, output_dim=32),\n",
    "    tf.keras.layers.SimpleRNN(units=32, activation=\"tanh\"),\n",
    "    tf.keras.layers.Dense(units=1, activation=\"sigmoid\")\n",
    "])\n",
    "model.compile(optimizer=\"rmsprop\", loss=\"binary_crossentropy\", metrics=[\"accuracy\"])"
   ]
  },
  {
   "cell_type": "markdown",
   "metadata": {},
   "source": [
    "## Training Model"
   ]
  },
  {
   "cell_type": "code",
   "execution_count": 11,
   "metadata": {},
   "outputs": [
    {
     "name": "stdout",
     "output_type": "stream",
     "text": [
      "Epoch 1/5\n",
      "196/196 [==============================] - 74s 380ms/step - loss: 0.6521 - accuracy: 0.6025 - val_loss: 0.7633 - val_accuracy: 0.5682\n",
      "Epoch 2/5\n",
      "196/196 [==============================] - 75s 383ms/step - loss: 0.4098 - accuracy: 0.8231 - val_loss: 0.4784 - val_accuracy: 0.7760\n",
      "Epoch 3/5\n",
      "196/196 [==============================] - 74s 378ms/step - loss: 0.2883 - accuracy: 0.8838 - val_loss: 0.4568 - val_accuracy: 0.7838\n",
      "Epoch 4/5\n",
      "196/196 [==============================] - 74s 379ms/step - loss: 0.2145 - accuracy: 0.9181 - val_loss: 0.5377 - val_accuracy: 0.7649\n",
      "Epoch 5/5\n",
      "196/196 [==============================] - 75s 384ms/step - loss: 0.1505 - accuracy: 0.9447 - val_loss: 0.5455 - val_accuracy: 0.7783\n",
      "CPU times: user 11min 59s, sys: 45.6 s, total: 12min 45s\n",
      "Wall time: 6min 12s\n"
     ]
    },
    {
     "data": {
      "text/plain": [
       "<keras.callbacks.History at 0x7ff0037d32b0>"
      ]
     },
     "execution_count": 11,
     "metadata": {},
     "output_type": "execute_result"
    },
    {
     "ename": "",
     "evalue": "",
     "output_type": "error",
     "traceback": [
      "\u001b[1;31m현재 셀 또는 이전 셀에서 코드를 실행하는 동안 Kernel이 충돌했습니다. 셀의 코드를 검토하여 오류의 가능한 원인을 식별하세요. 자세한 내용을 보려면 <a href='https://aka.ms/vscodeJupyterKernelCrash'> 여기 </a> 를 클릭하세요. 자세한 내용은 Jupyter <a href='command:jupyter.viewOutput'>로그</a>를 참조하세요."
     ]
    }
   ],
   "source": [
    "%%time\n",
    "model.fit(train_x, train_y, batch_size=128, epochs=5, validation_data=(test_x, test_y))"
   ]
  },
  {
   "cell_type": "markdown",
   "metadata": {},
   "source": [
    "## Result\n",
    "\n",
    "* Home PC\n",
    "```log\n",
    "Epoch 5/5\n",
    "196/196 [==============================] - 75s 384ms/step - loss: 0.1505 - accuracy: 0.9447 - val_loss: 0.5455 - val_accuracy: 0.7783\n",
    "CPU times: user 11min 59s, sys: 45.6 s, total: 12min 45s\n",
    "Wall time: 6min 12s\n",
    "```"
   ]
  },
  {
   "cell_type": "code",
   "execution_count": null,
   "metadata": {},
   "outputs": [],
   "source": []
  }
 ],
 "metadata": {
  "kernelspec": {
   "display_name": "Python 3.9.13 ('tf27p39')",
   "language": "python",
   "name": "python3"
  },
  "language_info": {
   "codemirror_mode": {
    "name": "ipython",
    "version": 3
   },
   "file_extension": ".py",
   "mimetype": "text/x-python",
   "name": "python",
   "nbconvert_exporter": "python",
   "pygments_lexer": "ipython3",
   "version": "3.9.13"
  },
  "orig_nbformat": 4,
  "vscode": {
   "interpreter": {
    "hash": "adc6a6ffc7682364230b93b75ca0d1bdd8db84ff27ffd4d90b08b9e56198ae80"
   }
  }
 },
 "nbformat": 4,
 "nbformat_minor": 2
}

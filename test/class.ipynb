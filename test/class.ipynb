{
 "cells": [
  {
   "cell_type": "code",
   "execution_count": 11,
   "metadata": {},
   "outputs": [],
   "source": [
    "class SimpleClass:\n",
    "    \n",
    "    def __init__(self, aa, bb, **kargs):\n",
    "        print(f\"aa={aa}\\nbb={bb}\")\n",
    "        print(f\"cc={kargs['cc']}\")\n",
    "      \n",
    "        \n",
    "class KargsClass:\n",
    "    \n",
    "    def __init__(self, **aa):\n",
    "        print(f\"aa={aa['aa']}\\nbb={aa['bb']}\")"
   ]
  },
  {
   "cell_type": "code",
   "execution_count": 12,
   "metadata": {},
   "outputs": [
    {
     "name": "stdout",
     "output_type": "stream",
     "text": [
      "aa=100\n",
      "bb=freeman\n",
      "cc=5\n",
      "aa=100\n",
      "bb=freeman\n"
     ]
    },
    {
     "data": {
      "text/plain": [
       "<__main__.KargsClass at 0x7ff5456b80d0>"
      ]
     },
     "execution_count": 12,
     "metadata": {},
     "output_type": "execute_result"
    }
   ],
   "source": [
    "kargs = {\n",
    "    \"aa\": 100,\n",
    "    \"bb\": \"freeman\",\n",
    "    \"cc\": 5\n",
    "}\n",
    "SimpleClass(**kargs)\n",
    "KargsClass(**kargs)"
   ]
  },
  {
   "cell_type": "code",
   "execution_count": null,
   "metadata": {},
   "outputs": [],
   "source": []
  }
 ],
 "metadata": {
  "kernelspec": {
   "display_name": "Python 3.9.13 ('tf27p39')",
   "language": "python",
   "name": "python3"
  },
  "language_info": {
   "codemirror_mode": {
    "name": "ipython",
    "version": 3
   },
   "file_extension": ".py",
   "mimetype": "text/x-python",
   "name": "python",
   "nbconvert_exporter": "python",
   "pygments_lexer": "ipython3",
   "version": "3.9.13"
  },
  "orig_nbformat": 4,
  "vscode": {
   "interpreter": {
    "hash": "adc6a6ffc7682364230b93b75ca0d1bdd8db84ff27ffd4d90b08b9e56198ae80"
   }
  }
 },
 "nbformat": 4,
 "nbformat_minor": 2
}
